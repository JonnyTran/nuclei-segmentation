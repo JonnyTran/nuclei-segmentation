{
 "cells": [
  {
   "cell_type": "code",
   "execution_count": 105,
   "metadata": {},
   "outputs": [
    {
     "name": "stdout",
     "output_type": "stream",
     "text": [
      "The autoreload extension is already loaded. To reload it, use:\n",
      "  %reload_ext autoreload\n"
     ]
    }
   ],
   "source": [
    "# Necessary imports\n",
    "%load_ext autoreload\n",
    "%autoreload 2\\\n",
    "\n",
    "import importlib\n",
    "import os\n",
    "import sys\n",
    "nb_dir = os.path.split(os.getcwd())[0]\n",
    "if nb_dir not in sys.path:\n",
    "    sys.path.append(nb_dir)\n",
    "from definitions import ROOT_DIR"
   ]
  },
  {
   "cell_type": "code",
   "execution_count": 182,
   "metadata": {},
   "outputs": [],
   "source": [
    "from src.features.multi_omics import MultiOmicsData\n",
    "# importlib.reload(src.features.multi_omics)\n",
    "\n",
    "import pandas as pd\n",
    "import numpy as np"
   ]
  },
  {
   "cell_type": "code",
   "execution_count": 183,
   "metadata": {},
   "outputs": [
    {
     "name": "stderr",
     "output_type": "stream",
     "text": [
      "/opt/anaconda3/lib/python3.6/site-packages/pandas/core/frame.py:3027: SettingWithCopyWarning: \n",
      "A value is trying to be set on a copy of a slice from a DataFrame\n",
      "\n",
      "See the caveats in the documentation: http://pandas.pydata.org/pandas-docs/stable/indexing.html#indexing-view-versus-copy\n",
      "  return super(DataFrame, self).rename(**kwargs)\n"
     ]
    },
    {
     "name": "stdout",
     "output_type": "stream",
     "text": [
      "PATIENTS (504, 5)\n",
      "DRUGS (357, 4)\n",
      "GE (552, 20472)\n",
      "MIR (380, 1870)\n",
      "LNC (237, 12727)\n"
     ]
    }
   ],
   "source": [
    "folder_path = ROOT_DIR + \"/data/tcga-assembler/LUSC/\"\n",
    "luad_data = MultiOmicsData(cancer_type=\"LUSC\", folder_path=folder_path,\n",
    "                           modalities=[\"GE\", \"MIR\", \"LNC\"])\n",
    "matched_samples = luad_data.match_samples(modalities=[\"GE\", \"MIR\"])"
   ]
  },
  {
   "cell_type": "code",
   "execution_count": 184,
   "metadata": {},
   "outputs": [
    {
     "name": "stdout",
     "output_type": "stream",
     "text": [
      "modalities matched sample size: (73, 1)\n",
      "joined clinical data size: (73, 6)\n",
      "(72, 20472) (72, 1870) (72, 12727) (72, 1)\n"
     ]
    },
    {
     "data": {
      "text/plain": [
       "Stage I      32\n",
       "Stage II     21\n",
       "Stage III    11\n",
       "Normal        8\n",
       "Name: ajcc_pathologic_tumor_stage, dtype: int64"
      ]
     },
     "execution_count": 184,
     "metadata": {},
     "output_type": "execute_result"
    }
   ],
   "source": [
    "X_multiomics, y = luad_data.load_data('all')\n",
    "print(X_multiomics['GE'].shape, X_multiomics['MIR'].shape, X_multiomics['LNC'].shape, y.shape)\n",
    "y['ajcc_pathologic_tumor_stage'].value_counts()"
   ]
  },
  {
   "cell_type": "markdown",
   "metadata": {},
   "source": [
    "# Log2 transform the mRNA, microRNA, and lncRNA expression values"
   ]
  },
  {
   "cell_type": "code",
   "execution_count": 185,
   "metadata": {},
   "outputs": [],
   "source": [
    "def expression_val_transform(x):\n",
    "    return np.log2(x+1)\n",
    "X_multiomics['GE'] = X_multiomics['GE'].applymap(expression_val_transform)\n",
    "X_multiomics['MIR'] = X_multiomics['MIR'].applymap(expression_val_transform)\n",
    "X_multiomics['LNC'] = X_multiomics['LNC'].applymap(expression_val_transform)"
   ]
  },
  {
   "cell_type": "markdown",
   "metadata": {},
   "source": [
    "# Import Machine Learning Methods"
   ]
  },
  {
   "cell_type": "code",
   "execution_count": 186,
   "metadata": {},
   "outputs": [],
   "source": [
    "from sklearn import preprocessing\n",
    "from sklearn import metrics\n",
    "from sklearn.svm import SVC, LinearSVC\n",
    "import sklearn.linear_model\n",
    "from sklearn.model_selection import train_test_split\n"
   ]
  },
  {
   "cell_type": "code",
   "execution_count": 109,
   "metadata": {
    "collapsed": true
   },
   "outputs": [
    {
     "name": "stderr",
     "output_type": "stream",
     "text": [
      "/opt/anaconda3/lib/python3.6/site-packages/sklearn/preprocessing/label.py:95: DataConversionWarning: A column-vector y was passed when a 1d array was expected. Please change the shape of y to (n_samples, ), for example using ravel().\n",
      "  y = column_or_1d(y, warn=True)\n",
      "/opt/anaconda3/lib/python3.6/site-packages/sklearn/preprocessing/label.py:128: DataConversionWarning: A column-vector y was passed when a 1d array was expected. Please change the shape of y to (n_samples, ), for example using ravel().\n",
      "  y = column_or_1d(y, warn=True)\n"
     ]
    },
    {
     "data": {
      "text/plain": [
       "array([2, 0, 2, 0, 0, 2, 0, 1, 3, 1, 0, 1, 1, 1, 2, 0, 2, 0, 3, 2, 0, 0,\n",
       "       0, 0, 1, 0, 2, 2, 0, 0, 0, 0, 1, 0, 2, 0, 0, 0, 0, 0, 0, 0, 1, 0,\n",
       "       0, 0, 0, 1, 1, 1, 0, 0, 0, 1, 0, 0, 0, 0, 0, 0, 0, 0, 0, 2, 2, 0,\n",
       "       1, 1, 2, 2, 1, 1, 2, 2, 2, 1, 2, 0, 2, 1, 0, 1, 2, 2, 2, 0, 1, 1,\n",
       "       2, 2, 0, 2, 0, 2, 0, 0, 0, 0, 3, 0, 2, 2, 2, 0, 0, 0, 0, 1, 0, 3,\n",
       "       1, 2, 1, 0, 0, 1, 3, 0, 2, 0, 0, 1, 1, 0, 2, 1, 1, 1, 0, 0, 0, 2,\n",
       "       0, 2, 0, 0, 0, 0, 0, 0, 0, 2, 0, 0, 0, 1, 1, 0, 1, 1, 0, 0, 0, 0,\n",
       "       0, 0, 1, 3, 0, 0, 0, 0, 1, 0, 0, 0, 0, 0, 0, 2, 1, 0, 1, 0, 0, 3,\n",
       "       1, 0, 0, 2, 0, 1, 3, 0, 1, 2, 0, 0, 0, 0, 0, 0, 2, 1, 1, 2, 2, 2,\n",
       "       0, 0, 0, 0, 1, 0, 2, 0, 1, 1, 2, 0, 0, 2, 0, 2, 0, 1, 0, 0, 1, 1,\n",
       "       0, 0, 0, 0, 2, 1, 0, 0, 1, 0, 1, 1, 0, 0, 0, 1, 0, 0, 0, 1, 2, 0,\n",
       "       0, 2, 0, 0, 2, 0, 1, 2, 0, 0, 1, 0, 0, 3, 2, 1, 1, 2, 1, 0, 0, 2,\n",
       "       0, 3, 2, 0, 3, 1, 0, 0, 1, 3, 2, 0, 2, 0, 1, 0, 0, 0, 1, 1, 0, 1,\n",
       "       0, 1, 0, 0, 0, 1, 1, 3, 1, 1, 2, 0, 0, 0, 1, 1, 2, 0, 1, 0, 0, 1,\n",
       "       1, 1, 0, 0, 2, 0, 0, 0, 1, 1, 0, 1, 0, 1, 1, 0, 2, 0, 0, 1, 0, 0,\n",
       "       0, 0, 0, 0, 0, 2, 2, 1, 0, 0, 0, 1, 1, 0, 0, 0, 3, 0, 3, 0, 1, 0,\n",
       "       1, 1, 0, 0, 0, 0, 1, 2, 1, 2, 0, 0, 0, 0, 2, 0, 0, 0, 3, 0, 1, 0,\n",
       "       2, 0, 0, 2, 0, 0, 0, 0, 0, 0, 0, 0, 0, 2, 2, 0, 0, 3, 1, 1, 0, 0,\n",
       "       0, 0, 0, 0, 0, 1, 0, 0, 0, 1, 1, 1, 2, 3, 2, 2, 0, 2, 2, 1, 0, 1,\n",
       "       0, 1, 0, 0, 2, 0, 0, 0, 1, 0, 0])"
      ]
     },
     "execution_count": 109,
     "metadata": {},
     "output_type": "execute_result"
    }
   ],
   "source": [
    "binarizer = preprocessing.LabelEncoder()\n",
    "binarizer.fit(y)\n",
    "binarizer.transform(y)"
   ]
  },
  {
   "cell_type": "code",
   "execution_count": 187,
   "metadata": {},
   "outputs": [
    {
     "name": "stdout",
     "output_type": "stream",
     "text": [
      "GE\n",
      "(50, 20472) (22, 20472)\n",
      "NONZERO 22\n",
      "Training accuracy 0.72\n",
      "             precision    recall  f1-score   support\n",
      "\n",
      "     Normal       1.00      0.67      0.80         3\n",
      "    Stage I       0.53      1.00      0.69        10\n",
      "   Stage II       0.00      0.00      0.00         6\n",
      "  Stage III       0.00      0.00      0.00         3\n",
      "\n",
      "avg / total       0.38      0.55      0.42        22\n",
      "\n",
      "MIR\n",
      "(50, 1870) (22, 1870)\n",
      "NONZERO 3\n",
      "Training accuracy 0.48\n",
      "             precision    recall  f1-score   support\n",
      "\n",
      "     Normal       0.00      0.00      0.00         3\n",
      "    Stage I       0.45      1.00      0.62        10\n",
      "   Stage II       0.00      0.00      0.00         6\n",
      "  Stage III       0.00      0.00      0.00         3\n",
      "\n",
      "avg / total       0.21      0.45      0.28        22\n",
      "\n",
      "LNC\n",
      "(50, 12727) (22, 12727)\n",
      "NONZERO 1\n",
      "Training accuracy 0.38\n",
      "             precision    recall  f1-score   support\n",
      "\n",
      "     Normal       0.14      1.00      0.24         3\n",
      "    Stage I       0.00      0.00      0.00        10\n",
      "   Stage II       0.00      0.00      0.00         6\n",
      "  Stage III       0.00      0.00      0.00         3\n",
      "\n",
      "avg / total       0.02      0.14      0.03        22\n",
      "\n"
     ]
    },
    {
     "name": "stderr",
     "output_type": "stream",
     "text": [
      "/opt/anaconda3/lib/python3.6/site-packages/sklearn/utils/validation.py:578: DataConversionWarning: A column-vector y was passed when a 1d array was expected. Please change the shape of y to (n_samples, ), for example using ravel().\n",
      "  y = column_or_1d(y, warn=True)\n",
      "/opt/anaconda3/lib/python3.6/site-packages/sklearn/metrics/classification.py:1135: UndefinedMetricWarning: Precision and F-score are ill-defined and being set to 0.0 in labels with no predicted samples.\n",
      "  'precision', 'predicted', average, warn_for)\n"
     ]
    }
   ],
   "source": [
    "for omic in [\"GE\", \"MIR\", \"LNC\"]:\n",
    "    print(omic)\n",
    "    scaler = sklearn.preprocessing.StandardScaler(copy=True, with_mean=True, with_std=False)\n",
    "    scaler.fit(X_multiomics[omic])\n",
    "\n",
    "    X_train, X_test, Y_train, Y_test = \\\n",
    "        train_test_split(X_multiomics[omic], y, test_size=0.3, random_state=np.random.randint(0, 10000), stratify=y)\n",
    "    print(X_train.shape, X_test.shape)\n",
    "    \n",
    "\n",
    "    X_train = scaler.transform(X_train)\n",
    "    \n",
    "    model = LinearSVC(C=1e-2, penalty='l1', class_weight='balanced', dual=False, multi_class=\"ovr\")\n",
    "#     model = sklearn.linear_model.LogisticRegression(C=1e-0, penalty='l1', fit_intercept=False, class_weight=\"balanced\")\n",
    "#     model = SVC(C=1e0, kernel=\"rbf\", class_weight=\"balanced\", decision_function_shape=\"ovo\")\n",
    "\n",
    "    model.fit(X=X_train, y=Y_train)\n",
    "    print(\"NONZERO\", len(np.nonzero(model.coef_)[0]))\n",
    "    print(\"Training accuracy\", metrics.accuracy_score(model.predict(X_train), Y_train))\n",
    "    print(metrics.classification_report(y_pred=model.predict(X_test), y_true=Y_test))\n"
   ]
  },
  {
   "cell_type": "code",
   "execution_count": null,
   "metadata": {},
   "outputs": [],
   "source": []
  }
 ],
 "metadata": {
  "kernelspec": {
   "display_name": "Python 3",
   "language": "python",
   "name": "python3"
  },
  "language_info": {
   "codemirror_mode": {
    "name": "ipython",
    "version": 3
   },
   "file_extension": ".py",
   "mimetype": "text/x-python",
   "name": "python",
   "nbconvert_exporter": "python",
   "pygments_lexer": "ipython3",
   "version": "3.6.5"
  }
 },
 "nbformat": 4,
 "nbformat_minor": 2
}
