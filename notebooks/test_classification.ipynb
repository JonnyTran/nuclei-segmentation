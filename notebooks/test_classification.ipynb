{
 "cells": [
  {
   "cell_type": "code",
   "execution_count": 1,
   "metadata": {},
   "outputs": [
    {
     "name": "stderr",
     "output_type": "stream",
     "text": [
      "/opt/anaconda3/lib/python3.6/importlib/_bootstrap.py:219: RuntimeWarning: compiletime version 3.5 of module 'tensorflow.python.framework.fast_tensor_util' does not match runtime version 3.6\n",
      "  return f(*args, **kwds)\n",
      "Using TensorFlow backend.\n"
     ]
    }
   ],
   "source": [
    "# Necessary imports\n",
    "%load_ext autoreload\n",
    "%autoreload 2\\\n",
    "\n",
    "import sys\n",
    "import os\n",
    "\n",
    "nb_dir = os.path.split(os.getcwd())[0]\n",
    "if nb_dir not in sys.path:\n",
    "    sys.path.append(nb_dir)\n",
    "from src.data.make_dataset import CRCHistoPhenotypes_Patch\n",
    "\n",
    "import numpy as np\n",
    "import matplotlib.pyplot as plt\n",
    "\n",
    "import tensorflow as tf\n",
    "\n",
    "\n",
    "from sklearn.model_selection import train_test_split\n",
    "from sklearn.preprocessing import LabelEncoder\n",
    "\n",
    "import keras\n",
    "from keras.preprocessing.image import ImageDataGenerator\n",
    "from keras.models import Sequential\n",
    "from keras.layers import Dense, Activation, Dropout, Flatten\n",
    "from keras.layers import Convolution2D, MaxPooling2D\n",
    "from keras.layers.noise import GaussianNoise\n"
   ]
  },
  {
   "cell_type": "markdown",
   "metadata": {},
   "source": [
    "# Load dataset"
   ]
  },
  {
   "cell_type": "code",
   "execution_count": 2,
   "metadata": {},
   "outputs": [],
   "source": [
    "dataset = CRCHistoPhenotypes_Patch(patch_size=(27,27))\n",
    "X, y = dataset.load_patches()"
   ]
  },
  {
   "cell_type": "code",
   "execution_count": 3,
   "metadata": {},
   "outputs": [],
   "source": [
    "labelencoder = LabelEncoder()\n",
    "labelencoder.fit(y)\n",
    "y = labelencoder.transform(y)"
   ]
  },
  {
   "cell_type": "code",
   "execution_count": 4,
   "metadata": {},
   "outputs": [
    {
     "data": {
      "text/plain": [
       "22444"
      ]
     },
     "execution_count": 4,
     "metadata": {},
     "output_type": "execute_result"
    }
   ],
   "source": [
    "len(X)"
   ]
  },
  {
   "cell_type": "code",
   "execution_count": 5,
   "metadata": {},
   "outputs": [],
   "source": [
    "batch_size = 32\n",
    "num_classes = 4\n",
    "epochs = 200\n",
    "data_augmentation = False\n",
    "save_dir = os.path.join(os.getcwd(), 'saved_models')\n",
    "model_name = 'keras_CRCPatches_trained_model.h5'"
   ]
  },
  {
   "cell_type": "code",
   "execution_count": 6,
   "metadata": {},
   "outputs": [],
   "source": [
    "X_train, X_test, y_train, y_test = train_test_split(X, y, test_size=0.33, stratify=y, random_state=42)\n",
    "len_X_train = len(X_train)\n",
    "X_train = np.concatenate(X_train, axis=0).reshape((len_X_train, )+X[0].shape)\n",
    "\n",
    "len_X_test = len(X_test)\n",
    "X_test = np.concatenate(X_test, axis=0).reshape((len_X_test, )+X[0].shape)\n",
    "\n",
    "# Convert class vectors to binary class matrices.\n",
    "y_train = keras.utils.to_categorical(y_train, num_classes)\n",
    "y_test = keras.utils.to_categorical(y_test, num_classes)"
   ]
  },
  {
   "cell_type": "markdown",
   "metadata": {},
   "source": [
    "# Define a Keras Sequential model"
   ]
  },
  {
   "cell_type": "code",
   "execution_count": 7,
   "metadata": {},
   "outputs": [],
   "source": [
    "model = Sequential()\n",
    "model.add(GaussianNoise(stddev=0.1, input_shape=(27, 27, 3)))\n",
    "model.add(Convolution2D(filters=32, kernel_size=(7, 7), activation='relu', input_shape=(27, 27, 3)))\n",
    "model.add(MaxPooling2D(pool_size=(2,2)))\n",
    "model.add(Dropout(0.1))\n",
    "\n",
    "model.add(Convolution2D(filters=48, kernel_size=(5, 5), activation='relu'))\n",
    "model.add(MaxPooling2D(pool_size=(2,2)))\n",
    "model.add(Dropout(0.1))\n",
    "\n",
    "model.add(Convolution2D(filters=64, kernel_size=(3, 3), activation='relu'))\n",
    "# model.add(Dropout(0.2))\n",
    "\n",
    "model.add(Flatten())\n",
    "model.add(Dense(256, activation='relu'))\n",
    "model.add(Dropout(0.1))\n",
    "model.add(Dense(128, activation='tanh'))\n",
    "# model.add(Dropout(0.25))\n",
    "model.add(Dense(64, activation='tanh'))\n",
    "# model.add(Dropout(0.25))\n",
    "model.add(Dense(4, activation='softmax'))\n"
   ]
  },
  {
   "cell_type": "code",
   "execution_count": 8,
   "metadata": {},
   "outputs": [],
   "source": [
    "# initiate RMSprop optimizer\n",
    "opt = keras.optimizers.rmsprop(lr=0.0001, decay=1e-6)\n",
    "\n",
    "# Let's train the model using RMSprop\n",
    "model.compile(loss='categorical_crossentropy',\n",
    "              optimizer=opt,\n",
    "              metrics=['accuracy'])"
   ]
  },
  {
   "cell_type": "code",
   "execution_count": 9,
   "metadata": {
    "scrolled": false
   },
   "outputs": [
    {
     "name": "stdout",
     "output_type": "stream",
     "text": [
      "Not using data augmentation.\n",
      "Train on 15037 samples, validate on 7407 samples\n",
      "Epoch 1/200\n",
      "15037/15037 [==============================] - 4s 254us/step - loss: 1.3171 - acc: 0.3641 - val_loss: 1.1670 - val_acc: 0.5457\n",
      "Epoch 2/200\n",
      "15037/15037 [==============================] - 2s 145us/step - loss: 1.0285 - acc: 0.5840 - val_loss: 0.9704 - val_acc: 0.6046\n",
      "Epoch 3/200\n",
      "15037/15037 [==============================] - 2s 121us/step - loss: 0.9037 - acc: 0.6518 - val_loss: 0.8411 - val_acc: 0.6794\n",
      "Epoch 4/200\n",
      "15037/15037 [==============================] - 2s 123us/step - loss: 0.8617 - acc: 0.6721 - val_loss: 0.8180 - val_acc: 0.6849\n",
      "Epoch 5/200\n",
      "15037/15037 [==============================] - 2s 117us/step - loss: 0.8389 - acc: 0.6795 - val_loss: 0.7944 - val_acc: 0.7004\n",
      "Epoch 6/200\n",
      "15037/15037 [==============================] - 2s 116us/step - loss: 0.8267 - acc: 0.6857 - val_loss: 0.8306 - val_acc: 0.6784\n",
      "Epoch 7/200\n",
      "15037/15037 [==============================] - 2s 117us/step - loss: 0.8106 - acc: 0.6924 - val_loss: 0.8704 - val_acc: 0.6536\n",
      "Epoch 8/200\n",
      "15037/15037 [==============================] - 2s 125us/step - loss: 0.7971 - acc: 0.6924 - val_loss: 0.7431 - val_acc: 0.7165\n",
      "Epoch 9/200\n",
      "15037/15037 [==============================] - 2s 129us/step - loss: 0.7856 - acc: 0.6998 - val_loss: 0.7402 - val_acc: 0.7153\n",
      "Epoch 10/200\n",
      "15037/15037 [==============================] - 2s 128us/step - loss: 0.7774 - acc: 0.7032 - val_loss: 0.7516 - val_acc: 0.7149\n",
      "Epoch 11/200\n",
      "15037/15037 [==============================] - 2s 119us/step - loss: 0.7720 - acc: 0.7081 - val_loss: 0.7576 - val_acc: 0.7134\n",
      "Epoch 12/200\n",
      "15037/15037 [==============================] - 2s 119us/step - loss: 0.7648 - acc: 0.7116 - val_loss: 0.7789 - val_acc: 0.6979\n",
      "Epoch 13/200\n",
      "15037/15037 [==============================] - 2s 120us/step - loss: 0.7569 - acc: 0.7124 - val_loss: 0.8035 - val_acc: 0.6964\n",
      "Epoch 14/200\n",
      "15037/15037 [==============================] - 2s 147us/step - loss: 0.7505 - acc: 0.7160 - val_loss: 0.7594 - val_acc: 0.7111\n",
      "Epoch 15/200\n",
      "15037/15037 [==============================] - 2s 121us/step - loss: 0.7392 - acc: 0.7198 - val_loss: 0.7583 - val_acc: 0.7142\n",
      "Epoch 16/200\n",
      "15037/15037 [==============================] - 2s 120us/step - loss: 0.7382 - acc: 0.7204 - val_loss: 0.7786 - val_acc: 0.7031\n",
      "Epoch 17/200\n",
      "15037/15037 [==============================] - 2s 122us/step - loss: 0.7332 - acc: 0.7214 - val_loss: 0.7694 - val_acc: 0.7073\n",
      "Epoch 18/200\n",
      "15037/15037 [==============================] - 2s 120us/step - loss: 0.7191 - acc: 0.7252 - val_loss: 0.8645 - val_acc: 0.6787\n",
      "Epoch 19/200\n",
      "15037/15037 [==============================] - 2s 120us/step - loss: 0.7198 - acc: 0.7263 - val_loss: 0.7357 - val_acc: 0.7250\n",
      "Epoch 20/200\n",
      "15037/15037 [==============================] - 2s 120us/step - loss: 0.7103 - acc: 0.7304 - val_loss: 0.7483 - val_acc: 0.7124\n",
      "Epoch 21/200\n",
      "15037/15037 [==============================] - 2s 120us/step - loss: 0.7096 - acc: 0.7315 - val_loss: 0.7363 - val_acc: 0.7212\n",
      "Epoch 22/200\n",
      "15037/15037 [==============================] - 2s 129us/step - loss: 0.7013 - acc: 0.7348 - val_loss: 0.7060 - val_acc: 0.7331\n",
      "Epoch 23/200\n",
      "15037/15037 [==============================] - 2s 123us/step - loss: 0.6949 - acc: 0.7397 - val_loss: 0.6942 - val_acc: 0.7351\n",
      "Epoch 24/200\n",
      "15037/15037 [==============================] - 2s 120us/step - loss: 0.6922 - acc: 0.7397 - val_loss: 0.7055 - val_acc: 0.7266\n",
      "Epoch 25/200\n",
      "15037/15037 [==============================] - 2s 126us/step - loss: 0.6906 - acc: 0.7421 - val_loss: 0.6930 - val_acc: 0.7415\n",
      "Epoch 26/200\n",
      "15037/15037 [==============================] - 2s 121us/step - loss: 0.6850 - acc: 0.7436 - val_loss: 0.7351 - val_acc: 0.7263\n",
      "Epoch 27/200\n",
      "15037/15037 [==============================] - 2s 122us/step - loss: 0.6794 - acc: 0.7445 - val_loss: 0.7159 - val_acc: 0.7316\n",
      "Epoch 28/200\n",
      "15037/15037 [==============================] - 2s 142us/step - loss: 0.6738 - acc: 0.7478 - val_loss: 0.7462 - val_acc: 0.7195\n",
      "Epoch 29/200\n",
      "15037/15037 [==============================] - 2s 123us/step - loss: 0.6792 - acc: 0.7422 - val_loss: 0.6945 - val_acc: 0.7385\n",
      "Epoch 30/200\n",
      "15037/15037 [==============================] - 2s 119us/step - loss: 0.6749 - acc: 0.7421 - val_loss: 0.7085 - val_acc: 0.7281\n",
      "Epoch 31/200\n",
      "15037/15037 [==============================] - 2s 120us/step - loss: 0.6683 - acc: 0.7491 - val_loss: 0.7047 - val_acc: 0.7357\n",
      "Epoch 32/200\n",
      "15037/15037 [==============================] - 2s 122us/step - loss: 0.6605 - acc: 0.7518 - val_loss: 0.7061 - val_acc: 0.7353\n",
      "Epoch 33/200\n",
      "15037/15037 [==============================] - 2s 120us/step - loss: 0.6637 - acc: 0.7527 - val_loss: 0.7142 - val_acc: 0.7255\n",
      "Epoch 34/200\n",
      "15037/15037 [==============================] - 2s 122us/step - loss: 0.6608 - acc: 0.7543 - val_loss: 0.6819 - val_acc: 0.7408\n",
      "Epoch 35/200\n",
      "15037/15037 [==============================] - 2s 123us/step - loss: 0.6585 - acc: 0.7511 - val_loss: 0.7075 - val_acc: 0.7350\n",
      "Epoch 36/200\n",
      "15037/15037 [==============================] - 2s 122us/step - loss: 0.6522 - acc: 0.7567 - val_loss: 0.7648 - val_acc: 0.7186\n",
      "Epoch 37/200\n",
      "15037/15037 [==============================] - 2s 122us/step - loss: 0.6526 - acc: 0.7551 - val_loss: 0.7085 - val_acc: 0.7323\n",
      "Epoch 38/200\n",
      "15037/15037 [==============================] - 2s 123us/step - loss: 0.6488 - acc: 0.7565 - val_loss: 0.7235 - val_acc: 0.7263\n",
      "Epoch 39/200\n",
      "15037/15037 [==============================] - 2s 150us/step - loss: 0.6459 - acc: 0.7591 - val_loss: 0.6902 - val_acc: 0.7375\n",
      "Epoch 40/200\n",
      "15037/15037 [==============================] - 2s 124us/step - loss: 0.6359 - acc: 0.7642 - val_loss: 0.7116 - val_acc: 0.7332\n",
      "Epoch 41/200\n",
      "15037/15037 [==============================] - 2s 123us/step - loss: 0.6332 - acc: 0.7639 - val_loss: 0.6886 - val_acc: 0.7435\n",
      "Epoch 42/200\n",
      "15037/15037 [==============================] - 2s 124us/step - loss: 0.6324 - acc: 0.7613 - val_loss: 0.7724 - val_acc: 0.7307\n",
      "Epoch 43/200\n",
      "15037/15037 [==============================] - 2s 124us/step - loss: 0.6329 - acc: 0.7646 - val_loss: 0.6828 - val_acc: 0.7405\n",
      "Epoch 44/200\n",
      "15037/15037 [==============================] - 2s 123us/step - loss: 0.6237 - acc: 0.7691 - val_loss: 0.6869 - val_acc: 0.7404\n",
      "Epoch 45/200\n",
      "15037/15037 [==============================] - 2s 140us/step - loss: 0.6292 - acc: 0.7668 - val_loss: 0.6979 - val_acc: 0.7427\n",
      "Epoch 46/200\n",
      "15037/15037 [==============================] - 2s 123us/step - loss: 0.6243 - acc: 0.7661 - val_loss: 0.7032 - val_acc: 0.7290\n",
      "Epoch 47/200\n",
      "15037/15037 [==============================] - 2s 123us/step - loss: 0.6174 - acc: 0.7701 - val_loss: 0.6922 - val_acc: 0.7428\n",
      "Epoch 48/200\n",
      "15037/15037 [==============================] - 2s 120us/step - loss: 0.6166 - acc: 0.7709 - val_loss: 0.7050 - val_acc: 0.7386\n",
      "Epoch 49/200\n",
      "15037/15037 [==============================] - 2s 122us/step - loss: 0.6163 - acc: 0.7712 - val_loss: 0.8199 - val_acc: 0.7062\n",
      "Epoch 50/200\n",
      "15037/15037 [==============================] - 2s 122us/step - loss: 0.6149 - acc: 0.7739 - val_loss: 0.7495 - val_acc: 0.7247\n",
      "Epoch 51/200\n",
      "15037/15037 [==============================] - 2s 122us/step - loss: 0.6116 - acc: 0.7763 - val_loss: 0.7181 - val_acc: 0.7284\n",
      "Epoch 52/200\n",
      "15037/15037 [==============================] - 2s 121us/step - loss: 0.6090 - acc: 0.7750 - val_loss: 0.6850 - val_acc: 0.7446\n",
      "Epoch 53/200\n",
      "15037/15037 [==============================] - 2s 123us/step - loss: 0.5981 - acc: 0.7793 - val_loss: 0.6782 - val_acc: 0.7475\n",
      "Epoch 54/200\n",
      "15037/15037 [==============================] - 2s 123us/step - loss: 0.6041 - acc: 0.7780 - val_loss: 0.6972 - val_acc: 0.7424\n",
      "Epoch 55/200\n",
      "15037/15037 [==============================] - 2s 122us/step - loss: 0.6004 - acc: 0.7764 - val_loss: 0.6927 - val_acc: 0.7425\n",
      "Epoch 56/200\n",
      "15037/15037 [==============================] - 2s 122us/step - loss: 0.5983 - acc: 0.7773 - val_loss: 0.6852 - val_acc: 0.7419\n",
      "Epoch 57/200\n",
      "15037/15037 [==============================] - 2s 125us/step - loss: 0.5852 - acc: 0.7821 - val_loss: 0.6770 - val_acc: 0.7501\n",
      "Epoch 58/200\n",
      "15037/15037 [==============================] - 2s 124us/step - loss: 0.5922 - acc: 0.7851 - val_loss: 0.7431 - val_acc: 0.7270\n",
      "Epoch 59/200\n"
     ]
    },
    {
     "name": "stdout",
     "output_type": "stream",
     "text": [
      "15037/15037 [==============================] - 2s 115us/step - loss: 0.5880 - acc: 0.7817 - val_loss: 0.7211 - val_acc: 0.7378\n",
      "Epoch 60/200\n",
      "15037/15037 [==============================] - 2s 113us/step - loss: 0.5888 - acc: 0.7847 - val_loss: 0.8024 - val_acc: 0.7076\n",
      "Epoch 61/200\n",
      "15037/15037 [==============================] - 2s 113us/step - loss: 0.5860 - acc: 0.7831 - val_loss: 0.6982 - val_acc: 0.7401\n",
      "Epoch 62/200\n",
      "15037/15037 [==============================] - 2s 114us/step - loss: 0.5805 - acc: 0.7862 - val_loss: 0.7254 - val_acc: 0.7343\n",
      "Epoch 63/200\n",
      "15037/15037 [==============================] - 2s 114us/step - loss: 0.5758 - acc: 0.7905 - val_loss: 0.6974 - val_acc: 0.7455\n",
      "Epoch 64/200\n",
      "15037/15037 [==============================] - 2s 115us/step - loss: 0.5791 - acc: 0.7863 - val_loss: 0.6970 - val_acc: 0.7428\n",
      "Epoch 65/200\n",
      "15037/15037 [==============================] - 2s 114us/step - loss: 0.5731 - acc: 0.7875 - val_loss: 0.7951 - val_acc: 0.7213\n",
      "Epoch 66/200\n",
      "15037/15037 [==============================] - 2s 114us/step - loss: 0.5718 - acc: 0.7905 - val_loss: 0.7057 - val_acc: 0.7362\n",
      "Epoch 67/200\n",
      "15037/15037 [==============================] - 2s 114us/step - loss: 0.5684 - acc: 0.7920 - val_loss: 0.6808 - val_acc: 0.7440\n",
      "Epoch 68/200\n",
      "15037/15037 [==============================] - 2s 115us/step - loss: 0.5680 - acc: 0.7912 - val_loss: 0.6847 - val_acc: 0.7448\n",
      "Epoch 69/200\n",
      "15037/15037 [==============================] - 2s 114us/step - loss: 0.5602 - acc: 0.7948 - val_loss: 0.6916 - val_acc: 0.7490\n",
      "Epoch 70/200\n",
      "15037/15037 [==============================] - 2s 115us/step - loss: 0.5599 - acc: 0.7986 - val_loss: 0.7506 - val_acc: 0.7301\n",
      "Epoch 71/200\n",
      "15037/15037 [==============================] - 2s 115us/step - loss: 0.5576 - acc: 0.7980 - val_loss: 0.6981 - val_acc: 0.7458\n",
      "Epoch 72/200\n",
      "15037/15037 [==============================] - 2s 135us/step - loss: 0.5545 - acc: 0.7974 - val_loss: 0.6969 - val_acc: 0.7427\n",
      "Epoch 73/200\n",
      "15037/15037 [==============================] - 2s 126us/step - loss: 0.5515 - acc: 0.8016 - val_loss: 0.6970 - val_acc: 0.7431\n",
      "Epoch 74/200\n",
      "15037/15037 [==============================] - 2s 128us/step - loss: 0.5547 - acc: 0.7979 - val_loss: 0.7420 - val_acc: 0.7305\n",
      "Epoch 75/200\n",
      "15037/15037 [==============================] - 2s 116us/step - loss: 0.5505 - acc: 0.7978 - val_loss: 0.7585 - val_acc: 0.7294\n",
      "Epoch 76/200\n",
      "15037/15037 [==============================] - 2s 118us/step - loss: 0.5461 - acc: 0.8027 - val_loss: 0.7158 - val_acc: 0.7513\n",
      "Epoch 77/200\n",
      "15037/15037 [==============================] - 2s 141us/step - loss: 0.5401 - acc: 0.8019 - val_loss: 0.7258 - val_acc: 0.7404\n",
      "Epoch 78/200\n",
      "14752/15037 [============================>.] - ETA: 0s - loss: 0.5432 - acc: 0.8028"
     ]
    },
    {
     "ename": "KeyboardInterrupt",
     "evalue": "",
     "output_type": "error",
     "traceback": [
      "\u001b[0;31m---------------------------------------------------------------------------\u001b[0m",
      "\u001b[0;31mKeyboardInterrupt\u001b[0m                         Traceback (most recent call last)",
      "\u001b[0;32m<ipython-input-9-a240768e31b3>\u001b[0m in \u001b[0;36m<module>\u001b[0;34m()\u001b[0m\n\u001b[1;32m      5\u001b[0m               \u001b[0mepochs\u001b[0m\u001b[0;34m=\u001b[0m\u001b[0mepochs\u001b[0m\u001b[0;34m,\u001b[0m\u001b[0;34m\u001b[0m\u001b[0m\n\u001b[1;32m      6\u001b[0m               \u001b[0mvalidation_data\u001b[0m\u001b[0;34m=\u001b[0m\u001b[0;34m(\u001b[0m\u001b[0mX_test\u001b[0m\u001b[0;34m,\u001b[0m \u001b[0my_test\u001b[0m\u001b[0;34m)\u001b[0m\u001b[0;34m,\u001b[0m\u001b[0;34m\u001b[0m\u001b[0m\n\u001b[0;32m----> 7\u001b[0;31m               shuffle=True)\n\u001b[0m\u001b[1;32m      8\u001b[0m \u001b[0;32melse\u001b[0m\u001b[0;34m:\u001b[0m\u001b[0;34m\u001b[0m\u001b[0m\n\u001b[1;32m      9\u001b[0m     \u001b[0mprint\u001b[0m\u001b[0;34m(\u001b[0m\u001b[0;34m'Using real-time data augmentation.'\u001b[0m\u001b[0;34m)\u001b[0m\u001b[0;34m\u001b[0m\u001b[0m\n",
      "\u001b[0;32m/opt/anaconda3/lib/python3.6/site-packages/keras/models.py\u001b[0m in \u001b[0;36mfit\u001b[0;34m(self, x, y, batch_size, epochs, verbose, callbacks, validation_split, validation_data, shuffle, class_weight, sample_weight, initial_epoch, steps_per_epoch, validation_steps, **kwargs)\u001b[0m\n\u001b[1;32m    958\u001b[0m                               \u001b[0minitial_epoch\u001b[0m\u001b[0;34m=\u001b[0m\u001b[0minitial_epoch\u001b[0m\u001b[0;34m,\u001b[0m\u001b[0;34m\u001b[0m\u001b[0m\n\u001b[1;32m    959\u001b[0m                               \u001b[0msteps_per_epoch\u001b[0m\u001b[0;34m=\u001b[0m\u001b[0msteps_per_epoch\u001b[0m\u001b[0;34m,\u001b[0m\u001b[0;34m\u001b[0m\u001b[0m\n\u001b[0;32m--> 960\u001b[0;31m                               validation_steps=validation_steps)\n\u001b[0m\u001b[1;32m    961\u001b[0m \u001b[0;34m\u001b[0m\u001b[0m\n\u001b[1;32m    962\u001b[0m     def evaluate(self, x, y, batch_size=32, verbose=1,\n",
      "\u001b[0;32m/opt/anaconda3/lib/python3.6/site-packages/keras/engine/training.py\u001b[0m in \u001b[0;36mfit\u001b[0;34m(self, x, y, batch_size, epochs, verbose, callbacks, validation_split, validation_data, shuffle, class_weight, sample_weight, initial_epoch, steps_per_epoch, validation_steps, **kwargs)\u001b[0m\n\u001b[1;32m   1648\u001b[0m                               \u001b[0minitial_epoch\u001b[0m\u001b[0;34m=\u001b[0m\u001b[0minitial_epoch\u001b[0m\u001b[0;34m,\u001b[0m\u001b[0;34m\u001b[0m\u001b[0m\n\u001b[1;32m   1649\u001b[0m                               \u001b[0msteps_per_epoch\u001b[0m\u001b[0;34m=\u001b[0m\u001b[0msteps_per_epoch\u001b[0m\u001b[0;34m,\u001b[0m\u001b[0;34m\u001b[0m\u001b[0m\n\u001b[0;32m-> 1650\u001b[0;31m                               validation_steps=validation_steps)\n\u001b[0m\u001b[1;32m   1651\u001b[0m \u001b[0;34m\u001b[0m\u001b[0m\n\u001b[1;32m   1652\u001b[0m     def evaluate(self, x=None, y=None,\n",
      "\u001b[0;32m/opt/anaconda3/lib/python3.6/site-packages/keras/engine/training.py\u001b[0m in \u001b[0;36m_fit_loop\u001b[0;34m(self, f, ins, out_labels, batch_size, epochs, verbose, callbacks, val_f, val_ins, shuffle, callback_metrics, initial_epoch, steps_per_epoch, validation_steps)\u001b[0m\n\u001b[1;32m   1225\u001b[0m                             val_outs = self._test_loop(val_f, val_ins,\n\u001b[1;32m   1226\u001b[0m                                                        \u001b[0mbatch_size\u001b[0m\u001b[0;34m=\u001b[0m\u001b[0mbatch_size\u001b[0m\u001b[0;34m,\u001b[0m\u001b[0;34m\u001b[0m\u001b[0m\n\u001b[0;32m-> 1227\u001b[0;31m                                                        verbose=0)\n\u001b[0m\u001b[1;32m   1228\u001b[0m                             \u001b[0;32mif\u001b[0m \u001b[0;32mnot\u001b[0m \u001b[0misinstance\u001b[0m\u001b[0;34m(\u001b[0m\u001b[0mval_outs\u001b[0m\u001b[0;34m,\u001b[0m \u001b[0mlist\u001b[0m\u001b[0;34m)\u001b[0m\u001b[0;34m:\u001b[0m\u001b[0;34m\u001b[0m\u001b[0m\n\u001b[1;32m   1229\u001b[0m                                 \u001b[0mval_outs\u001b[0m \u001b[0;34m=\u001b[0m \u001b[0;34m[\u001b[0m\u001b[0mval_outs\u001b[0m\u001b[0;34m]\u001b[0m\u001b[0;34m\u001b[0m\u001b[0m\n",
      "\u001b[0;32m/opt/anaconda3/lib/python3.6/site-packages/keras/engine/training.py\u001b[0m in \u001b[0;36m_test_loop\u001b[0;34m(self, f, ins, batch_size, verbose, steps)\u001b[0m\n\u001b[1;32m   1368\u001b[0m                     \u001b[0mins_batch\u001b[0m \u001b[0;34m=\u001b[0m \u001b[0m_slice_arrays\u001b[0m\u001b[0;34m(\u001b[0m\u001b[0mins\u001b[0m\u001b[0;34m,\u001b[0m \u001b[0mbatch_ids\u001b[0m\u001b[0;34m)\u001b[0m\u001b[0;34m\u001b[0m\u001b[0m\n\u001b[1;32m   1369\u001b[0m \u001b[0;34m\u001b[0m\u001b[0m\n\u001b[0;32m-> 1370\u001b[0;31m                 \u001b[0mbatch_outs\u001b[0m \u001b[0;34m=\u001b[0m \u001b[0mf\u001b[0m\u001b[0;34m(\u001b[0m\u001b[0mins_batch\u001b[0m\u001b[0;34m)\u001b[0m\u001b[0;34m\u001b[0m\u001b[0m\n\u001b[0m\u001b[1;32m   1371\u001b[0m                 \u001b[0;32mif\u001b[0m \u001b[0misinstance\u001b[0m\u001b[0;34m(\u001b[0m\u001b[0mbatch_outs\u001b[0m\u001b[0;34m,\u001b[0m \u001b[0mlist\u001b[0m\u001b[0;34m)\u001b[0m\u001b[0;34m:\u001b[0m\u001b[0;34m\u001b[0m\u001b[0m\n\u001b[1;32m   1372\u001b[0m                     \u001b[0;32mif\u001b[0m \u001b[0mbatch_index\u001b[0m \u001b[0;34m==\u001b[0m \u001b[0;36m0\u001b[0m\u001b[0;34m:\u001b[0m\u001b[0;34m\u001b[0m\u001b[0m\n",
      "\u001b[0;32m/opt/anaconda3/lib/python3.6/site-packages/keras/backend/tensorflow_backend.py\u001b[0m in \u001b[0;36m__call__\u001b[0;34m(self, inputs)\u001b[0m\n\u001b[1;32m   2350\u001b[0m         \u001b[0msession\u001b[0m \u001b[0;34m=\u001b[0m \u001b[0mget_session\u001b[0m\u001b[0;34m(\u001b[0m\u001b[0;34m)\u001b[0m\u001b[0;34m\u001b[0m\u001b[0m\n\u001b[1;32m   2351\u001b[0m         updated = session.run(fetches=fetches, feed_dict=feed_dict,\n\u001b[0;32m-> 2352\u001b[0;31m                               **self.session_kwargs)\n\u001b[0m\u001b[1;32m   2353\u001b[0m         \u001b[0;32mreturn\u001b[0m \u001b[0mupdated\u001b[0m\u001b[0;34m[\u001b[0m\u001b[0;34m:\u001b[0m\u001b[0mlen\u001b[0m\u001b[0;34m(\u001b[0m\u001b[0mself\u001b[0m\u001b[0;34m.\u001b[0m\u001b[0moutputs\u001b[0m\u001b[0;34m)\u001b[0m\u001b[0;34m]\u001b[0m\u001b[0;34m\u001b[0m\u001b[0m\n\u001b[1;32m   2354\u001b[0m \u001b[0;34m\u001b[0m\u001b[0m\n",
      "\u001b[0;32m/opt/anaconda3/lib/python3.6/site-packages/tensorflow/python/client/session.py\u001b[0m in \u001b[0;36mrun\u001b[0;34m(self, fetches, feed_dict, options, run_metadata)\u001b[0m\n\u001b[1;32m    887\u001b[0m     \u001b[0;32mtry\u001b[0m\u001b[0;34m:\u001b[0m\u001b[0;34m\u001b[0m\u001b[0m\n\u001b[1;32m    888\u001b[0m       result = self._run(None, fetches, feed_dict, options_ptr,\n\u001b[0;32m--> 889\u001b[0;31m                          run_metadata_ptr)\n\u001b[0m\u001b[1;32m    890\u001b[0m       \u001b[0;32mif\u001b[0m \u001b[0mrun_metadata\u001b[0m\u001b[0;34m:\u001b[0m\u001b[0;34m\u001b[0m\u001b[0m\n\u001b[1;32m    891\u001b[0m         \u001b[0mproto_data\u001b[0m \u001b[0;34m=\u001b[0m \u001b[0mtf_session\u001b[0m\u001b[0;34m.\u001b[0m\u001b[0mTF_GetBuffer\u001b[0m\u001b[0;34m(\u001b[0m\u001b[0mrun_metadata_ptr\u001b[0m\u001b[0;34m)\u001b[0m\u001b[0;34m\u001b[0m\u001b[0m\n",
      "\u001b[0;32m/opt/anaconda3/lib/python3.6/site-packages/tensorflow/python/client/session.py\u001b[0m in \u001b[0;36m_run\u001b[0;34m(self, handle, fetches, feed_dict, options, run_metadata)\u001b[0m\n\u001b[1;32m   1118\u001b[0m     \u001b[0;32mif\u001b[0m \u001b[0mfinal_fetches\u001b[0m \u001b[0;32mor\u001b[0m \u001b[0mfinal_targets\u001b[0m \u001b[0;32mor\u001b[0m \u001b[0;34m(\u001b[0m\u001b[0mhandle\u001b[0m \u001b[0;32mand\u001b[0m \u001b[0mfeed_dict_tensor\u001b[0m\u001b[0;34m)\u001b[0m\u001b[0;34m:\u001b[0m\u001b[0;34m\u001b[0m\u001b[0m\n\u001b[1;32m   1119\u001b[0m       results = self._do_run(handle, final_targets, final_fetches,\n\u001b[0;32m-> 1120\u001b[0;31m                              feed_dict_tensor, options, run_metadata)\n\u001b[0m\u001b[1;32m   1121\u001b[0m     \u001b[0;32melse\u001b[0m\u001b[0;34m:\u001b[0m\u001b[0;34m\u001b[0m\u001b[0m\n\u001b[1;32m   1122\u001b[0m       \u001b[0mresults\u001b[0m \u001b[0;34m=\u001b[0m \u001b[0;34m[\u001b[0m\u001b[0;34m]\u001b[0m\u001b[0;34m\u001b[0m\u001b[0m\n",
      "\u001b[0;32m/opt/anaconda3/lib/python3.6/site-packages/tensorflow/python/client/session.py\u001b[0m in \u001b[0;36m_do_run\u001b[0;34m(self, handle, target_list, fetch_list, feed_dict, options, run_metadata)\u001b[0m\n\u001b[1;32m   1315\u001b[0m     \u001b[0;32mif\u001b[0m \u001b[0mhandle\u001b[0m \u001b[0;32mis\u001b[0m \u001b[0;32mNone\u001b[0m\u001b[0;34m:\u001b[0m\u001b[0;34m\u001b[0m\u001b[0m\n\u001b[1;32m   1316\u001b[0m       return self._do_call(_run_fn, self._session, feeds, fetches, targets,\n\u001b[0;32m-> 1317\u001b[0;31m                            options, run_metadata)\n\u001b[0m\u001b[1;32m   1318\u001b[0m     \u001b[0;32melse\u001b[0m\u001b[0;34m:\u001b[0m\u001b[0;34m\u001b[0m\u001b[0m\n\u001b[1;32m   1319\u001b[0m       \u001b[0;32mreturn\u001b[0m \u001b[0mself\u001b[0m\u001b[0;34m.\u001b[0m\u001b[0m_do_call\u001b[0m\u001b[0;34m(\u001b[0m\u001b[0m_prun_fn\u001b[0m\u001b[0;34m,\u001b[0m \u001b[0mself\u001b[0m\u001b[0;34m.\u001b[0m\u001b[0m_session\u001b[0m\u001b[0;34m,\u001b[0m \u001b[0mhandle\u001b[0m\u001b[0;34m,\u001b[0m \u001b[0mfeeds\u001b[0m\u001b[0;34m,\u001b[0m \u001b[0mfetches\u001b[0m\u001b[0;34m)\u001b[0m\u001b[0;34m\u001b[0m\u001b[0m\n",
      "\u001b[0;32m/opt/anaconda3/lib/python3.6/site-packages/tensorflow/python/client/session.py\u001b[0m in \u001b[0;36m_do_call\u001b[0;34m(self, fn, *args)\u001b[0m\n\u001b[1;32m   1321\u001b[0m   \u001b[0;32mdef\u001b[0m \u001b[0m_do_call\u001b[0m\u001b[0;34m(\u001b[0m\u001b[0mself\u001b[0m\u001b[0;34m,\u001b[0m \u001b[0mfn\u001b[0m\u001b[0;34m,\u001b[0m \u001b[0;34m*\u001b[0m\u001b[0margs\u001b[0m\u001b[0;34m)\u001b[0m\u001b[0;34m:\u001b[0m\u001b[0;34m\u001b[0m\u001b[0m\n\u001b[1;32m   1322\u001b[0m     \u001b[0;32mtry\u001b[0m\u001b[0;34m:\u001b[0m\u001b[0;34m\u001b[0m\u001b[0m\n\u001b[0;32m-> 1323\u001b[0;31m       \u001b[0;32mreturn\u001b[0m \u001b[0mfn\u001b[0m\u001b[0;34m(\u001b[0m\u001b[0;34m*\u001b[0m\u001b[0margs\u001b[0m\u001b[0;34m)\u001b[0m\u001b[0;34m\u001b[0m\u001b[0m\n\u001b[0m\u001b[1;32m   1324\u001b[0m     \u001b[0;32mexcept\u001b[0m \u001b[0merrors\u001b[0m\u001b[0;34m.\u001b[0m\u001b[0mOpError\u001b[0m \u001b[0;32mas\u001b[0m \u001b[0me\u001b[0m\u001b[0;34m:\u001b[0m\u001b[0;34m\u001b[0m\u001b[0m\n\u001b[1;32m   1325\u001b[0m       \u001b[0mmessage\u001b[0m \u001b[0;34m=\u001b[0m \u001b[0mcompat\u001b[0m\u001b[0;34m.\u001b[0m\u001b[0mas_text\u001b[0m\u001b[0;34m(\u001b[0m\u001b[0me\u001b[0m\u001b[0;34m.\u001b[0m\u001b[0mmessage\u001b[0m\u001b[0;34m)\u001b[0m\u001b[0;34m\u001b[0m\u001b[0m\n",
      "\u001b[0;32m/opt/anaconda3/lib/python3.6/site-packages/tensorflow/python/client/session.py\u001b[0m in \u001b[0;36m_run_fn\u001b[0;34m(session, feed_dict, fetch_list, target_list, options, run_metadata)\u001b[0m\n\u001b[1;32m   1300\u001b[0m           return tf_session.TF_Run(session, options,\n\u001b[1;32m   1301\u001b[0m                                    \u001b[0mfeed_dict\u001b[0m\u001b[0;34m,\u001b[0m \u001b[0mfetch_list\u001b[0m\u001b[0;34m,\u001b[0m \u001b[0mtarget_list\u001b[0m\u001b[0;34m,\u001b[0m\u001b[0;34m\u001b[0m\u001b[0m\n\u001b[0;32m-> 1302\u001b[0;31m                                    status, run_metadata)\n\u001b[0m\u001b[1;32m   1303\u001b[0m \u001b[0;34m\u001b[0m\u001b[0m\n\u001b[1;32m   1304\u001b[0m     \u001b[0;32mdef\u001b[0m \u001b[0m_prun_fn\u001b[0m\u001b[0;34m(\u001b[0m\u001b[0msession\u001b[0m\u001b[0;34m,\u001b[0m \u001b[0mhandle\u001b[0m\u001b[0;34m,\u001b[0m \u001b[0mfeed_dict\u001b[0m\u001b[0;34m,\u001b[0m \u001b[0mfetch_list\u001b[0m\u001b[0;34m)\u001b[0m\u001b[0;34m:\u001b[0m\u001b[0;34m\u001b[0m\u001b[0m\n",
      "\u001b[0;31mKeyboardInterrupt\u001b[0m: "
     ]
    }
   ],
   "source": [
    "if not data_augmentation:\n",
    "    print('Not using data augmentation.')\n",
    "    model.fit(X_train, y_train,\n",
    "              batch_size=batch_size,\n",
    "              epochs=epochs,\n",
    "              validation_data=(X_test, y_test),\n",
    "              shuffle=True)\n",
    "else:\n",
    "    print('Using real-time data augmentation.')\n",
    "    # This will do preprocessing and realtime data augmentation:\n",
    "    datagen = ImageDataGenerator(\n",
    "        featurewise_center=False,  # set input mean to 0 over the dataset\n",
    "        samplewise_center=False,  # set each sample mean to 0\n",
    "        featurewise_std_normalization=False,  # divide inputs by std of the dataset\n",
    "        samplewise_std_normalization=False,  # divide each input by its std\n",
    "        zca_whitening=False,  # apply ZCA whitening\n",
    "        rotation_range=0,  # randomly rotate images in the range (degrees, 0 to 180)\n",
    "        width_shift_range=0.0,  # randomly shift images horizontally (fraction of total width)\n",
    "        height_shift_range=0.0,  # randomly shift images vertically (fraction of total height)\n",
    "        horizontal_flip=True,  # randomly flip images\n",
    "        vertical_flip=True)  # randomly flip images\n",
    "\n",
    "    # Compute quantities required for feature-wise normalization\n",
    "    # (std, mean, and principal components if ZCA whitening is applied).\n",
    "    datagen.fit(X_train)\n",
    "\n",
    "    # Fit the model on the batches generated by datagen.flow().\n",
    "    model.fit_generator(datagen.flow(X_train, y_train,\n",
    "                                     batch_size=batch_size),\n",
    "                        steps_per_epoch=X_train.shape[0] // batch_size,\n",
    "                        epochs=epochs,\n",
    "                        validation_data=(X_test, y_test),\n",
    "                        workers=4)\n"
   ]
  },
  {
   "cell_type": "code",
   "execution_count": 19,
   "metadata": {},
   "outputs": [
    {
     "ename": "ImportError",
     "evalue": "Failed to import pydot. You must install pydot and graphviz for `pydotprint` to work.",
     "output_type": "error",
     "traceback": [
      "\u001b[0;31m---------------------------------------------------------------------------\u001b[0m",
      "\u001b[0;31mAttributeError\u001b[0m                            Traceback (most recent call last)",
      "\u001b[0;32m/opt/anaconda3/lib/python3.6/site-packages/keras/utils/vis_utils.py\u001b[0m in \u001b[0;36m_check_pydot\u001b[0;34m()\u001b[0m\n\u001b[1;32m     22\u001b[0m         \u001b[0;31m# to check the pydot/graphviz installation.\u001b[0m\u001b[0;34m\u001b[0m\u001b[0;34m\u001b[0m\u001b[0m\n\u001b[0;32m---> 23\u001b[0;31m         \u001b[0mpydot\u001b[0m\u001b[0;34m.\u001b[0m\u001b[0mDot\u001b[0m\u001b[0;34m.\u001b[0m\u001b[0mcreate\u001b[0m\u001b[0;34m(\u001b[0m\u001b[0mpydot\u001b[0m\u001b[0;34m.\u001b[0m\u001b[0mDot\u001b[0m\u001b[0;34m(\u001b[0m\u001b[0;34m)\u001b[0m\u001b[0;34m)\u001b[0m\u001b[0;34m\u001b[0m\u001b[0m\n\u001b[0m\u001b[1;32m     24\u001b[0m     \u001b[0;32mexcept\u001b[0m \u001b[0mException\u001b[0m\u001b[0;34m:\u001b[0m\u001b[0;34m\u001b[0m\u001b[0m\n",
      "\u001b[0;31mAttributeError\u001b[0m: 'NoneType' object has no attribute 'Dot'",
      "\nDuring handling of the above exception, another exception occurred:\n",
      "\u001b[0;31mImportError\u001b[0m                               Traceback (most recent call last)",
      "\u001b[0;32m<ipython-input-19-a70009143d02>\u001b[0m in \u001b[0;36m<module>\u001b[0;34m()\u001b[0m\n\u001b[1;32m      1\u001b[0m \u001b[0;32mfrom\u001b[0m \u001b[0mkeras\u001b[0m\u001b[0;34m.\u001b[0m\u001b[0mutils\u001b[0m \u001b[0;32mimport\u001b[0m \u001b[0mplot_model\u001b[0m\u001b[0;34m\u001b[0m\u001b[0m\n\u001b[0;32m----> 2\u001b[0;31m \u001b[0mplot_model\u001b[0m\u001b[0;34m(\u001b[0m\u001b[0mmodel\u001b[0m\u001b[0;34m,\u001b[0m \u001b[0mto_file\u001b[0m\u001b[0;34m=\u001b[0m\u001b[0;34m'model.png'\u001b[0m\u001b[0;34m)\u001b[0m\u001b[0;34m\u001b[0m\u001b[0m\n\u001b[0m",
      "\u001b[0;32m/opt/anaconda3/lib/python3.6/site-packages/keras/utils/vis_utils.py\u001b[0m in \u001b[0;36mplot_model\u001b[0;34m(model, to_file, show_shapes, show_layer_names, rankdir)\u001b[0m\n\u001b[1;32m    129\u001b[0m             \u001b[0;34m'LR'\u001b[0m \u001b[0mcreates\u001b[0m \u001b[0ma\u001b[0m \u001b[0mhorizontal\u001b[0m \u001b[0mplot\u001b[0m\u001b[0;34m.\u001b[0m\u001b[0;34m\u001b[0m\u001b[0m\n\u001b[1;32m    130\u001b[0m     \"\"\"\n\u001b[0;32m--> 131\u001b[0;31m     \u001b[0mdot\u001b[0m \u001b[0;34m=\u001b[0m \u001b[0mmodel_to_dot\u001b[0m\u001b[0;34m(\u001b[0m\u001b[0mmodel\u001b[0m\u001b[0;34m,\u001b[0m \u001b[0mshow_shapes\u001b[0m\u001b[0;34m,\u001b[0m \u001b[0mshow_layer_names\u001b[0m\u001b[0;34m,\u001b[0m \u001b[0mrankdir\u001b[0m\u001b[0;34m)\u001b[0m\u001b[0;34m\u001b[0m\u001b[0m\n\u001b[0m\u001b[1;32m    132\u001b[0m     \u001b[0m_\u001b[0m\u001b[0;34m,\u001b[0m \u001b[0mextension\u001b[0m \u001b[0;34m=\u001b[0m \u001b[0mos\u001b[0m\u001b[0;34m.\u001b[0m\u001b[0mpath\u001b[0m\u001b[0;34m.\u001b[0m\u001b[0msplitext\u001b[0m\u001b[0;34m(\u001b[0m\u001b[0mto_file\u001b[0m\u001b[0;34m)\u001b[0m\u001b[0;34m\u001b[0m\u001b[0m\n\u001b[1;32m    133\u001b[0m     \u001b[0;32mif\u001b[0m \u001b[0;32mnot\u001b[0m \u001b[0mextension\u001b[0m\u001b[0;34m:\u001b[0m\u001b[0;34m\u001b[0m\u001b[0m\n",
      "\u001b[0;32m/opt/anaconda3/lib/python3.6/site-packages/keras/utils/vis_utils.py\u001b[0m in \u001b[0;36mmodel_to_dot\u001b[0;34m(model, show_shapes, show_layer_names, rankdir)\u001b[0m\n\u001b[1;32m     50\u001b[0m     \u001b[0;32mfrom\u001b[0m \u001b[0;34m.\u001b[0m\u001b[0;34m.\u001b[0m\u001b[0mmodels\u001b[0m \u001b[0;32mimport\u001b[0m \u001b[0mSequential\u001b[0m\u001b[0;34m\u001b[0m\u001b[0m\n\u001b[1;32m     51\u001b[0m \u001b[0;34m\u001b[0m\u001b[0m\n\u001b[0;32m---> 52\u001b[0;31m     \u001b[0m_check_pydot\u001b[0m\u001b[0;34m(\u001b[0m\u001b[0;34m)\u001b[0m\u001b[0;34m\u001b[0m\u001b[0m\n\u001b[0m\u001b[1;32m     53\u001b[0m     \u001b[0mdot\u001b[0m \u001b[0;34m=\u001b[0m \u001b[0mpydot\u001b[0m\u001b[0;34m.\u001b[0m\u001b[0mDot\u001b[0m\u001b[0;34m(\u001b[0m\u001b[0;34m)\u001b[0m\u001b[0;34m\u001b[0m\u001b[0m\n\u001b[1;32m     54\u001b[0m     \u001b[0mdot\u001b[0m\u001b[0;34m.\u001b[0m\u001b[0mset\u001b[0m\u001b[0;34m(\u001b[0m\u001b[0;34m'rankdir'\u001b[0m\u001b[0;34m,\u001b[0m \u001b[0mrankdir\u001b[0m\u001b[0;34m)\u001b[0m\u001b[0;34m\u001b[0m\u001b[0m\n",
      "\u001b[0;32m/opt/anaconda3/lib/python3.6/site-packages/keras/utils/vis_utils.py\u001b[0m in \u001b[0;36m_check_pydot\u001b[0;34m()\u001b[0m\n\u001b[1;32m     25\u001b[0m         \u001b[0;31m# pydot raises a generic Exception here,\u001b[0m\u001b[0;34m\u001b[0m\u001b[0;34m\u001b[0m\u001b[0m\n\u001b[1;32m     26\u001b[0m         \u001b[0;31m# so no specific class can be caught.\u001b[0m\u001b[0;34m\u001b[0m\u001b[0;34m\u001b[0m\u001b[0m\n\u001b[0;32m---> 27\u001b[0;31m         raise ImportError('Failed to import pydot. You must install pydot'\n\u001b[0m\u001b[1;32m     28\u001b[0m                           ' and graphviz for `pydotprint` to work.')\n\u001b[1;32m     29\u001b[0m \u001b[0;34m\u001b[0m\u001b[0m\n",
      "\u001b[0;31mImportError\u001b[0m: Failed to import pydot. You must install pydot and graphviz for `pydotprint` to work."
     ]
    }
   ],
   "source": [
    "from keras.utils import plot_model\n",
    "plot_model(model, to_file='model.png')"
   ]
  },
  {
   "cell_type": "code",
   "execution_count": 20,
   "metadata": {},
   "outputs": [
    {
     "data": {
      "text/plain": [
       "[0.72940465018899558, 0.74915620372799774]"
      ]
     },
     "execution_count": 20,
     "metadata": {},
     "output_type": "execute_result"
    }
   ],
   "source": [
    "score = model.evaluate(X_test, y_test, verbose=0)\n",
    "score"
   ]
  },
  {
   "cell_type": "code",
   "execution_count": null,
   "metadata": {
    "collapsed": true
   },
   "outputs": [],
   "source": []
  }
 ],
 "metadata": {
  "kernelspec": {
   "display_name": "Python 3",
   "language": "python",
   "name": "python3"
  },
  "language_info": {
   "codemirror_mode": {
    "name": "ipython",
    "version": 3
   },
   "file_extension": ".py",
   "mimetype": "text/x-python",
   "name": "python",
   "nbconvert_exporter": "python",
   "pygments_lexer": "ipython3",
   "version": "3.6.3"
  }
 },
 "nbformat": 4,
 "nbformat_minor": 2
}
